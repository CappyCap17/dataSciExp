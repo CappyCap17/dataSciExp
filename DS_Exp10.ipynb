{
  "nbformat": 4,
  "nbformat_minor": 0,
  "metadata": {
    "colab": {
      "provenance": [],
      "authorship_tag": "ABX9TyO/GFsxHA1mh66NPmUls2po",
      "include_colab_link": true
    },
    "kernelspec": {
      "name": "python3",
      "display_name": "Python 3"
    },
    "language_info": {
      "name": "python"
    }
  },
  "cells": [
    {
      "cell_type": "markdown",
      "metadata": {
        "id": "view-in-github",
        "colab_type": "text"
      },
      "source": [
        "<a href=\"https://colab.research.google.com/github/CappyCap17/dataSciExp/blob/main/DS_Exp10.ipynb\" target=\"_parent\"><img src=\"https://colab.research.google.com/assets/colab-badge.svg\" alt=\"Open In Colab\"/></a>"
      ]
    },
    {
      "cell_type": "code",
      "execution_count": 2,
      "metadata": {
        "colab": {
          "base_uri": "https://localhost:8080/"
        },
        "id": "3UcI70UTzC5z",
        "outputId": "42616aef-3891-44b3-c96d-458b84302c41"
      },
      "outputs": [
        {
          "output_type": "stream",
          "name": "stderr",
          "text": [
            "Features: 15/15"
          ]
        },
        {
          "output_type": "stream",
          "name": "stdout",
          "text": [
            "Selected features by EFS: ('sepal_length', 'petal_length', 'petal_width')\n",
            "Selected features by RFE: Index(['sepal_width', 'petal_length', 'petal_width'], dtype='object')\n"
          ]
        }
      ],
      "source": [
        "import pandas as pd\n",
        "import seaborn as sns\n",
        "from mlxtend.feature_selection import ExhaustiveFeatureSelector as EFS\n",
        "from sklearn.linear_model import LogisticRegression\n",
        "from sklearn.model_selection import train_test_split\n",
        "from sklearn.feature_selection import RFE\n",
        "\n",
        "# Load the Iris dataset from seaborn\n",
        "df = sns.load_dataset('iris')\n",
        "\n",
        "# Separate features (X) and target (y)\n",
        "X = df.drop('species', axis=1)  # 'species' is the column name in the seaborn dataset\n",
        "y = df['species']\n",
        "\n",
        "# Split data into training and testing sets\n",
        "X_train, X_test, y_train, y_test = train_test_split(X, y, test_size=0.25, random_state=42)\n",
        "\n",
        "# Initialize the Logistic Regression model\n",
        "lr = LogisticRegression(max_iter=1000)\n",
        "\n",
        "# Exhaustive Feature Selection\n",
        "efs = EFS(lr,\n",
        "           min_features=1,\n",
        "           max_features=4,\n",
        "           scoring='accuracy',\n",
        "           cv=5)\n",
        "\n",
        "efs = efs.fit(X_train, y_train)\n",
        "\n",
        "print(\"Selected features by EFS:\", efs.best_feature_names_)\n",
        "\n",
        "# Recursive Feature Elimination\n",
        "rfe = RFE(estimator=lr, n_features_to_select=3)\n",
        "\n",
        "rfe = rfe.fit(X_train, y_train)\n",
        "\n",
        "# Get the selected features\n",
        "selected_features = X_train.columns[rfe.support_]\n",
        "\n",
        "print(\"Selected features by RFE:\", selected_features)"
      ]
    }
  ]
}