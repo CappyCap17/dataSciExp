{
  "nbformat": 4,
  "nbformat_minor": 0,
  "metadata": {
    "colab": {
      "provenance": [],
      "authorship_tag": "ABX9TyN4k+p/39w7ghdT6bWgt0VJ",
      "include_colab_link": true
    },
    "kernelspec": {
      "name": "python3",
      "display_name": "Python 3"
    },
    "language_info": {
      "name": "python"
    }
  },
  "cells": [
    {
      "cell_type": "markdown",
      "metadata": {
        "id": "view-in-github",
        "colab_type": "text"
      },
      "source": [
        "<a href=\"https://colab.research.google.com/github/CappyCap17/dataSciExp/blob/main/DS_Exp9.ipynb\" target=\"_parent\"><img src=\"https://colab.research.google.com/assets/colab-badge.svg\" alt=\"Open In Colab\"/></a>"
      ]
    },
    {
      "cell_type": "code",
      "execution_count": 8,
      "metadata": {
        "colab": {
          "base_uri": "https://localhost:8080/"
        },
        "id": "B9l1XDQntDP6",
        "outputId": "87085442-a0d4-4fe2-c5e0-b0a37f1316a2"
      },
      "outputs": [
        {
          "output_type": "stream",
          "name": "stdout",
          "text": [
            "Selected features by SFS: ('sepal length (cm)', 'petal length (cm)', 'petal width (cm)')\n",
            "Selected features by SBS: ('sepal length (cm)', 'petal length (cm)', 'petal width (cm)')\n"
          ]
        }
      ],
      "source": [
        "import pandas as pd\n",
        "from sklearn.datasets import load_iris\n",
        "from mlxtend.feature_selection import SequentialFeatureSelector as SFS\n",
        "from sklearn.linear_model import LogisticRegression\n",
        "from sklearn.model_selection import train_test_split\n",
        "\n",
        "# Load the dataset\n",
        "df = load_iris()\n",
        "X = pd.DataFrame(df.data, columns=df.feature_names)  # Convert features to DataFrame\n",
        "y = pd.Series(df.target)  # Convert target to Series\n",
        "\n",
        "# Split data into training and testing sets\n",
        "X_train, X_test, y_train, y_test = train_test_split(X, y, test_size=0.25, random_state=42)\n",
        "\n",
        "# Initialize the Logistic Regression model\n",
        "lr = LogisticRegression(max_iter=1000)\n",
        "\n",
        "# Sequential Forward Selection (SFS)\n",
        "sfs = SFS(lr,\n",
        "           k_features=3,\n",
        "           forward=True,\n",
        "           floating=False,\n",
        "           scoring='accuracy',\n",
        "           cv=5)\n",
        "\n",
        "sfs = sfs.fit(X_train, y_train)\n",
        "\n",
        "print(\"Selected features by SFS:\", sfs.k_feature_names_)\n",
        "\n",
        "# Sequential Backward Selection (SBS)\n",
        "sbs = SFS(lr,\n",
        "           k_features=3,\n",
        "           forward=False,\n",
        "           floating=False,\n",
        "           scoring='accuracy',\n",
        "           cv=5)\n",
        "\n",
        "sbs = sbs.fit(X_train, y_train)\n",
        "\n",
        "print(\"Selected features by SBS:\", sbs.k_feature_names_)"
      ]
    },
    {
      "cell_type": "code",
      "source": [],
      "metadata": {
        "id": "V4Gyv7tUtXzc"
      },
      "execution_count": null,
      "outputs": []
    }
  ]
}